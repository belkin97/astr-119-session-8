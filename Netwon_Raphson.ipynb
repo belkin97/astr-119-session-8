{
 "cells": [
  {
   "cell_type": "markdown",
   "id": "71640fa5",
   "metadata": {},
   "source": [
    "# A Newton-Raphson Root Finding Implementation"
   ]
  },
  {
   "cell_type": "code",
   "execution_count": 26,
   "id": "a3a0bd85",
   "metadata": {},
   "outputs": [],
   "source": [
    "%matplotlib inline\n",
    "import numpy as np\n",
    "import matplotlib.pyplot as plt"
   ]
  },
  {
   "cell_type": "markdown",
   "id": "5cbe0f49",
   "metadata": {},
   "source": [
    "### Define the function for root finding"
   ]
  },
  {
   "cell_type": "code",
   "execution_count": 31,
   "id": "0b8261bc",
   "metadata": {},
   "outputs": [],
   "source": [
    "def function_for_root(x):\n",
    "    a = 1.01\n",
    "    b = -3.04\n",
    "    c = 2.07\n",
    "    return a*x**2 + b*x + c"
   ]
  },
  {
   "cell_type": "markdown",
   "id": "c7c25393",
   "metadata": {},
   "source": [
    "### define the function's derivative"
   ]
  },
  {
   "cell_type": "code",
   "execution_count": 32,
   "id": "73dcca9c",
   "metadata": {},
   "outputs": [],
   "source": [
    "def derivative_for_root(x):\n",
    "    a = 1.01\n",
    "    b = -3.04\n",
    "    return 2*a*x + b"
   ]
  },
  {
   "cell_type": "markdown",
   "id": "5dc690cf",
   "metadata": {},
   "source": [
    "## Define a work function"
   ]
  },
  {
   "cell_type": "code",
   "execution_count": 35,
   "id": "8c53288f",
   "metadata": {},
   "outputs": [],
   "source": [
    "def newton_raphson_root_finding(f, dfdx, x_start, tol):\n",
    "    \n",
    "    #this functions uses newton-raphson to find a root\n",
    "    \n",
    "    \n",
    "    #set a flag\n",
    "    flag = 1\n",
    "    \n",
    "    #set a maximum number of iterations\n",
    "    imax = 100000\n",
    "    \n",
    "    #start a counter\n",
    "    i = 1\n",
    "    \n",
    "    #define the new and old guess for the root\n",
    "    x_old = x_start\n",
    "    x_new = 0.0\n",
    "    y_new = 0.0\n",
    "    \n",
    "    #start the loop\n",
    "    while(flag):\n",
    "        \n",
    "        #make a new guess\n",
    "        x_new = x_old - f(x_old)/dfdx(x_old)\n",
    "        \n",
    "        #print out the iteration\n",
    "        print(x_new, x_old, f(x_old), dfdx(x_old))\n",
    "        \n",
    "        #if\n",
    "        #\n",
    "        y_new = f(x_new)\n",
    "        \n",
    "        if(np.fabs(y_new)<tol):\n",
    "            flag = 0 #\n",
    "        else:\n",
    "            #\n",
    "            x_old = x_new\n",
    "            \n",
    "            #\n",
    "            \n",
    "        #\n",
    "        if(i>=imax):\n",
    "            print(\"Max iterations reached.\")\n",
    "            raise StopIteration('Stopping iterations after',i)\n",
    "            \n",
    "        #\n",
    "    #out\n",
    "    \n",
    "    #we are done!\n",
    "    return x_new"
   ]
  },
  {
   "cell_type": "markdown",
   "id": "d2cd723d",
   "metadata": {},
   "source": [
    "### Perform the search"
   ]
  },
  {
   "cell_type": "code",
   "execution_count": 36,
   "id": "2fb7d2c3",
   "metadata": {},
   "outputs": [
    {
     "name": "stdout",
     "output_type": "stream",
     "text": [
      "0.5 0.8024999999999998\n",
      "0.8953201970443347 0.5 0.8024999999999998 -2.0300000000000002\n",
      "1.023494648595172 0.8953201970443347 0.15784083877308386 -1.2314532019704438\n",
      "1.040556119705499 1.023494648595172 0.016592976930660974 -0.9725408098377528\n",
      "1.040869531981685 1.040556119705499 0.00029400473441354436 -0.9380766381948917\n",
      "Root found with y(1.040870) = 0.000000\n"
     ]
    }
   ],
   "source": [
    "x_start = 0.5\n",
    "tolerance = 1.0e-6\n",
    "\n",
    "#print the initial guess\n",
    "print(x_start,function_for_root(x_start))\n",
    "\n",
    "x_root = newton_raphson_root_finding(function_for_root, derivative_for_root, x_start, tolerance)\n",
    "\n",
    "y_root = function_for_root(x_root)\n",
    "\n",
    "s = \"Root found with y(%f) = %f\" %(x_root,y_root)\n",
    "print(s)"
   ]
  },
  {
   "cell_type": "code",
   "execution_count": null,
   "id": "0fda712a",
   "metadata": {},
   "outputs": [],
   "source": []
  },
  {
   "cell_type": "code",
   "execution_count": null,
   "id": "7b22f994",
   "metadata": {},
   "outputs": [],
   "source": []
  }
 ],
 "metadata": {
  "kernelspec": {
   "display_name": "Python 3 (ipykernel)",
   "language": "python",
   "name": "python3"
  },
  "language_info": {
   "codemirror_mode": {
    "name": "ipython",
    "version": 3
   },
   "file_extension": ".py",
   "mimetype": "text/x-python",
   "name": "python",
   "nbconvert_exporter": "python",
   "pygments_lexer": "ipython3",
   "version": "3.9.7"
  }
 },
 "nbformat": 4,
 "nbformat_minor": 5
}
